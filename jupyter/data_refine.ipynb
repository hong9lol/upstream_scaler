{
 "cells": [
  {
   "cell_type": "code",
   "execution_count": 13,
   "id": "b3b0f8e3",
   "metadata": {},
   "outputs": [
    {
     "name": "stdout",
     "output_type": "stream",
     "text": [
      "<module 'posixpath' from '/Users/leejaehong/opt/anaconda3/lib/python3.9/posixpath.py'>\n",
      "                 limitCPU       30\n",
      "0             200_request    25143\n",
      "1           total_request    65918\n",
      "2                    type  default\n",
      "3    compose-post-service        2\n",
      "4   home-timeline-service        2\n",
      "5           media-service        1\n",
      "6    post-storage-service        2\n",
      "7    social-graph-service        1\n",
      "8            text-service        1\n",
      "9       unique-id-service        1\n",
      "10    url-shorten-service        1\n",
      "11   user-mention-service        1\n",
      "12           user-service        1\n",
      "13  user-timeline-service        3\n",
      "14                    NaN      NaN\n",
      "15               limitCPU       30\n",
      "16            200_request    27492\n",
      "17          total_request    65869\n",
      "18                   type  default\n",
      "19   compose-post-service        2\n"
     ]
    }
   ],
   "source": [
    "import pandas as pd\n",
    "import os\n",
    "print(os.path)\n",
    "# Specify the path to your Excel file\n",
    "file_path = './data/0229.xlsx'\n",
    "\n",
    "df = pd.read_excel(file_path, sheet_name='Sheet1', usecols='A:B')\n",
    "\n",
    "# Now, 'df' is a DataFrame containing only the data from the specified columns\n",
    "print(df.head(20))"
   ]
  },
  {
   "cell_type": "code",
   "execution_count": null,
   "id": "fea480eb",
   "metadata": {},
   "outputs": [],
   "source": []
  }
 ],
 "metadata": {
  "kernelspec": {
   "display_name": "Python 3 (ipykernel)",
   "language": "python",
   "name": "python3"
  },
  "language_info": {
   "codemirror_mode": {
    "name": "ipython",
    "version": 3
   },
   "file_extension": ".py",
   "mimetype": "text/x-python",
   "name": "python",
   "nbconvert_exporter": "python",
   "pygments_lexer": "ipython3",
   "version": "3.9.13"
  }
 },
 "nbformat": 4,
 "nbformat_minor": 5
}
